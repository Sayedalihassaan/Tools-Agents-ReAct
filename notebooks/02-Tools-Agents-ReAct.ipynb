{
 "cells": [
  {
   "cell_type": "markdown",
   "id": "8d2c8710",
   "metadata": {},
   "source": [
    "**ReAct** (Reasoning + Acting) is an agent framework and prompting strategy where an LLM **thinks step-by-step** (`Thought`), **chooses an action** (`Action`), and **uses tools or APIs** (`Action Input`) to interactively solve complex tasks.\n",
    "\n",
    "**How it works:** The LLM follows a loop of generating `Thought`, then `Action`, followed by `Observation`, repeating as needed until it produces a final `Answer`. This enables reasoning and acting in a structured, interactive way."
   ]
  },
  {
   "cell_type": "code",
   "execution_count": 1,
   "id": "8260b4b8",
   "metadata": {},
   "outputs": [],
   "source": [
    "import os\n",
    "from dotenv import load_dotenv\n",
    "\n",
    "_ = load_dotenv(override=True)\n",
    "\n",
    "GOOGLE_API_KEY = os.getenv(\"GOOGLE_API_KEY\")"
   ]
  },
  {
   "cell_type": "markdown",
   "id": "06ba2b60",
   "metadata": {},
   "source": [
    "##### `LangChain Tools`"
   ]
  },
  {
   "cell_type": "markdown",
   "id": "f21639a9",
   "metadata": {},
   "source": [
    "* `Wikipedia Search`"
   ]
  },
  {
   "cell_type": "code",
   "execution_count": 2,
   "id": "1cde0322",
   "metadata": {},
   "outputs": [],
   "source": [
    "from langchain_community.tools import WikipediaQueryRun\n",
    "from langchain_community.utilities import WikipediaAPIWrapper"
   ]
  },
  {
   "cell_type": "code",
   "execution_count": null,
   "id": "001d4b6c",
   "metadata": {},
   "outputs": [
    {
     "data": {
      "text/plain": [
       "'Page: Boltzmann machine\\nSummary: A Boltzmann machine (also called Sherrington–Kirkpatrick model with external field or stochastic Ising model), named after Ludwig Boltzmann, is a spin-glass model with an external field, i.e., a Sherrington–Kirkpatrick model, that is a stochastic Ising model. It is a statistical physics technique applied in the context of cognitive science. It is also classified as a Markov random field.\\nBoltzmann machines are theoretically intriguing because of the locality and Hebbian nature of their training algorithm (being trained by Hebb\\'s rule), and because of their parallelism and the resemblance of their dynamics to simple physical processes.  Boltzmann machines with unconstrained connectivity have not been proven useful for practical problems in machine learning or inference, but if the connectivity is properly constrained, the learning can be made efficient enough to be useful for practical problems.\\nThey are named after the Boltzmann distribution in statistical mechanics, which is used in their sampling function.  They were heavily popularized and promoted by Geoffrey Hinton, Terry Sejnowski and Yann LeCun in cognitive sciences communities, particularly in machine learning,  as part of \"energy-based models\" (EBM), because Hamiltonians of spin glasses as energy are used as a starting point to define the learning task.'"
      ]
     },
     "execution_count": 3,
     "metadata": {},
     "output_type": "execute_result"
    }
   ],
   "source": [
    "api_wrapper = WikipediaAPIWrapper(top_k_results=1 , doc_content_chars_max=10000)\n",
    "wiki = WikipediaQueryRun(api_wrapper=api_wrapper)\n",
    "output = wiki.invoke({'query': 'Geoffery Hinton'})\n",
    "output"
   ]
  },
  {
   "cell_type": "code",
   "execution_count": 4,
   "id": "3e153a36",
   "metadata": {},
   "outputs": [
    {
     "name": "stdout",
     "output_type": "stream",
     "text": [
      "Page: Gemini (chatbot)\n",
      "Summary: Gemini, formerly known as Bard, is a generative artificial intelligence chatbot developed by Google. Based on the large language model (LLM) of the same name, it was launched in 2023 in response to the rise of OpenAI's ChatGPT. It was previously based on the LaMDA and PaLM LLMs.\n",
      "LaMDA had been developed and announced in 2021, but it was not released to the public out of an abundance of caution. OpenAI's launch of ChatGPT in November 2022 and its subsequent popularity caught Google executives off-guard, prompting a sweeping response in the ensuing months. After mobilizing its workforce, the company launched Bard in a limited capacity in March 2023 before expanding to other countries in May. Bard took center stage during the 2023 Google I/O keynote in May and was upgraded to the Gemini LLM in December. In February 2024, Bard and Duet AI, another artificial intelligence product from Google, were unified under the Gemini brand, coinciding with the launch of an Android app.\n",
      "Gemini initially received lukewarm responses. It became the center of controversy in February 2024, when social media users reported that it was generating historically inaccurate images of historical figures as people of color, with people commenting on its bias as \"wokeness\".\n"
     ]
    }
   ],
   "source": [
    "# Another example\n",
    "output = wiki.invoke('Google Gemini')\n",
    "print(output)"
   ]
  },
  {
   "cell_type": "markdown",
   "id": "6ee33412",
   "metadata": {},
   "source": [
    "* `DuckDuckGo Search`\n",
    "> DuckDuckGo is a privacy-focused search engine that doesn't track users' searches"
   ]
  },
  {
   "cell_type": "code",
   "execution_count": 5,
   "id": "15132e7d",
   "metadata": {},
   "outputs": [],
   "source": [
    "from langchain.tools import DuckDuckGoSearchRun\n",
    "from langchain_community.utilities import DuckDuckGoSearchAPIWrapper\n",
    "from langchain.tools import DuckDuckGoSearchResults\n"
   ]
  },
  {
   "cell_type": "code",
   "execution_count": 6,
   "id": "0236ecf4",
   "metadata": {},
   "outputs": [
    {
     "data": {
      "text/plain": [
       "'Geoffrey Hinton (born December 6, 1947, London, England) is a British-Canadian cognitive psychologist and computer scientist known as the \"godfather of AI.\" He revolutionized the field of artificial intelligence with his work on neural network models. He contributed significantly to AI research with novel insights and key discoveries in the areas of backpropagation, Boltzmann machines ... Geoffrey Hinton\\'s journey into the world of AI began with a rich intellectual heritage and a diverse educational background. Hinton was born on December 6, 1947, in Wimbledon, London, England. His family included notable intellectuals like mathematician Mary Everest Boole and logician George Boole. His father, James Hinton, was a surgeon. Geoffrey Everest Hinton is a British-Canadian computer scientist and cognitive psychologist, most noted for his work on artificial neural networks. ... Geoffrey Hinton was born on December 6, 1947, in Wimbledon, England, United Kingdom. His birth geographical coordinates are 51° 25\\' 20\" North latitude and 0° 12\\' 29\" West longitude ... Geoffrey Everest Hinton was born in Wimbledon, London, on December 6, 1947. He is a cognitive psychologist and a pioneering computer scientist, widely known as the \"Godfather of AI.\" Geoffrey Everest Hinton CC FRS FRSC (born 6 December 1947) is a British-Canadian computer scientist, cognitive scientist, psychologist and most noted for his work on artificial neural networks, which has earned him the title as the \"Godfather of AI\".. Hinton is currently University Professor Emeritus at the University of Toronto. From 2013 to 2023, he divided his time working for Google ...'"
      ]
     },
     "execution_count": 6,
     "metadata": {},
     "output_type": "execute_result"
    }
   ],
   "source": [
    "search = DuckDuckGoSearchRun()\n",
    "\n",
    "output = search.invoke(\"Where was Geoffery Hinton born ?\")\n",
    "output"
   ]
  },
  {
   "cell_type": "code",
   "execution_count": 7,
   "id": "764b83ad",
   "metadata": {},
   "outputs": [
    {
     "data": {
      "text/plain": [
       "('duckduckgo_search',\n",
       " 'A wrapper around DuckDuckGo Search. Useful for when you need to answer questions about current events. Input should be a search query.')"
      ]
     },
     "execution_count": 7,
     "metadata": {},
     "output_type": "execute_result"
    }
   ],
   "source": [
    "search.name, search.description"
   ]
  },
  {
   "cell_type": "code",
   "execution_count": 8,
   "id": "ddc5aa5d",
   "metadata": {},
   "outputs": [
    {
     "data": {
      "text/plain": [
       "\"snippet: Learn about Egypt, a country in Africa and Asia with a rich and ancient civilisation. Explore its geography, culture, economy, government, foreign relations and more on Wikipedia., title: Egypt - Wikipedia, link: https://en.wikipedia.org/wiki/Egypt, snippet: A comprehensive overview of Egypt's geography, people, society, government, economy, energy, communications, transportation, military, and transnational issues. Compare Egypt with other countries by various indicators and rankings., title: Egypt - The World Factbook, link: https://www.cia.gov/the-world-factbook/countries/egypt/, snippet: The website of the Presidency of the Arab Republic of Egypt provides news, speeches, and initiatives of President Abdel Fattah El-Sisi. It also features the Museum of the Revolutionary Command Council and the President's answers to questions., title: Presidency of the Arab Republic of Egypt Website, link: https://www.presidency.eg/EN, snippet: ابقَ على اطلاعٍ مع أحدث التحديثات حول مصر من قبل الجزيرة. استكشف المقالات العميقة والتحليلات وأخبار اللحظة، برعاية فريقنا المكرس من الصحفيين., title: أخبار مصر - الجزيرة نت, link: https://www.ajnet.me/where/arab/egypt/\""
      ]
     },
     "execution_count": 8,
     "metadata": {},
     "output_type": "execute_result"
    }
   ],
   "source": [
    "wrapper = DuckDuckGoSearchAPIWrapper(region=\"xa-ar\" , max_results=3 , safesearch=\"moderate\")\n",
    "search = DuckDuckGoSearchResults(api_wrapper=wrapper , source = \"news\")\n",
    "output = search.run(\"Egypt\")\n",
    "output"
   ]
  },
  {
   "cell_type": "code",
   "execution_count": 9,
   "id": "f968a42b",
   "metadata": {},
   "outputs": [
    {
     "name": "stdout",
     "output_type": "stream",
     "text": [
      "Snippet: Learn about Egypt, a country in Africa and Asia with a rich and ancient civilisation. Explore its geography, culture, economy, government, foreign relations and more on Wikipedia.\n",
      "Title: Egypt - Wikipedia\n",
      "Link: https://en.wikipedia.org/wiki/Egypt\n",
      "\n",
      "--------------------------------------------------\n",
      "Snippet: A comprehensive overview of Egypt's geography, people, society, government, economy, energy, communications, transportation, military, and transnational issues. Compare Egypt with other countries by various indicators and rankings.\n",
      "Title: Egypt - The World Factbook\n",
      "Link: https://www.cia.gov/the-world-factbook/countries/egypt/\n",
      "\n",
      "--------------------------------------------------\n",
      "Snippet: The website of the Presidency of the Arab Republic of Egypt provides news, speeches, and initiatives of President Abdel Fattah El-Sisi. It also features the Museum of the Revolutionary Command Council and the President's answers to questions.\n",
      "Title: Presidency of the Arab Republic of Egypt Website\n",
      "Link: https://www.presidency.eg/EN\n",
      "\n",
      "--------------------------------------------------\n",
      "Snippet: ابقَ على اطلاعٍ مع أحدث التحديثات حول مصر من قبل الجزيرة. استكشف المقالات العميقة والتحليلات وأخبار اللحظة، برعاية فريقنا المكرس من الصحفيين.\n",
      "Title: أخبار مصر - الجزيرة نت\n",
      "Link: https://www.ajnet.me/where/arab/egypt/\n",
      "\n",
      "--------------------------------------------------\n"
     ]
    }
   ],
   "source": [
    "import re\n",
    "\n",
    "# Adjusted pattern to handle multiline and ensure proper capturing\n",
    "pattern = r'snippet: (.*?),\\s*title: (.*?),\\s*link: (https?://[^\\s,]+)'\n",
    "\n",
    "# Find all matches in the output text\n",
    "matches = re.findall(pattern, output, re.DOTALL)\n",
    "\n",
    "# Print each match in the desired format\n",
    "for snippet, title, link in matches:\n",
    "    print(f'Snippet: {snippet}\\nTitle: {title}\\nLink: {link}\\n')\n",
    "    print('-' * 50)"
   ]
  },
  {
   "cell_type": "markdown",
   "id": "995c1116",
   "metadata": {},
   "source": [
    "* `ReAct Agent`\n",
    "> ReAct is an approach that combines reasoning (thought process) with action-taking capabilities in AI agents. In the ReAct framework, agents can generate outputs by reasoning about the task at hand and taking actions iteratively, such as retrieving information, answering questions, or interacting with tools. This allows the agent to handle complex tasks more effectively by breaking down problems and solving them step-by-step, mimicking human-like reasoning"
   ]
  },
  {
   "cell_type": "code",
   "execution_count": 13,
   "id": "0fed6c93",
   "metadata": {},
   "outputs": [],
   "source": [
    "from langchain.prompts import PromptTemplate\n",
    "from langchain.agents import Tool , AgentExecutor , create_react_agent\n",
    "from langchain import hub\n",
    "from langchain_google_genai import ChatGoogleGenerativeAI\n",
    "from langchain_experimental.tools.python.tool import PythonREPLTool\n"
   ]
  },
  {
   "cell_type": "code",
   "execution_count": 18,
   "id": "fd54ae73",
   "metadata": {},
   "outputs": [
    {
     "name": "stderr",
     "output_type": "stream",
     "text": [
      "d:\\AAAAAAA\\RAG\\Projects\\LangChain - Basics, Chat and RAG\\LangChain\\.venv\\Lib\\site-packages\\langsmith\\client.py:272: LangSmithMissingAPIKeyWarning: API key must be provided when using hosted LangSmith API\n",
      "  warnings.warn(\n"
     ]
    },
    {
     "data": {
      "text/plain": [
       "PromptTemplate(input_variables=['agent_scratchpad', 'input', 'tool_names', 'tools'], input_types={}, partial_variables={}, metadata={'lc_hub_owner': 'hwchase17', 'lc_hub_repo': 'react', 'lc_hub_commit_hash': 'd15fe3c426f1c4b3f37c9198853e4a86e20c425ca7f4752ec0c9b0e97ca7ea4d'}, template='Answer the following questions as best you can. You have access to the following tools:\\n\\n{tools}\\n\\nUse the following format:\\n\\nQuestion: the input question you must answer\\nThought: you should always think about what to do\\nAction: the action to take, should be one of [{tool_names}]\\nAction Input: the input to the action\\nObservation: the result of the action\\n... (this Thought/Action/Action Input/Observation can repeat N times)\\nThought: I now know the final answer\\nFinal Answer: the final answer to the original input question\\n\\nBegin!\\n\\nQuestion: {input}\\nThought:{agent_scratchpad}')"
      ]
     },
     "execution_count": 18,
     "metadata": {},
     "output_type": "execute_result"
    }
   ],
   "source": [
    "llm = ChatGoogleGenerativeAI(model = \"gemini-1.5-flash\", api_key=GOOGLE_API_KEY)\n",
    "\n",
    "# Define a template for answering questions\n",
    "template = '''\n",
    "Answer the following questions in ARABIC as best you can.\n",
    "Questions: {q}\n",
    "'''\n",
    "\n",
    "prompt_template = PromptTemplate.from_template(template=template)\n",
    "\n",
    "prompt = hub.pull('hwchase17/react')\n",
    "prompt"
   ]
  },
  {
   "cell_type": "code",
   "execution_count": 19,
   "id": "2008b5af",
   "metadata": {},
   "outputs": [],
   "source": [
    "# Create tools for the agent\n",
    "# 1. Python REPL Tool (for executing Python code)\n",
    "python_repl = PythonREPLTool()\n",
    "python_repl_tool = Tool(\n",
    "    name='Python REPL',\n",
    "    func=python_repl.run,\n",
    "    description='Useful when you need to use Python to answer a question. You should input Python code.'\n",
    ")\n",
    "\n",
    "# 2. Wikipedia Tool (for searching Wikipedia)\n",
    "api_wrapper = WikipediaAPIWrapper()\n",
    "wikipedia = WikipediaQueryRun(api_wrapper=api_wrapper)\n",
    "wikipedia_tool = Tool(\n",
    "    name='Wikipedia',\n",
    "    func=wikipedia.run,\n",
    "    description='Useful for when you need to look up a topic, country, or person on Wikipedia.'\n",
    ")\n",
    "\n",
    "# 3. DuckDuckGo Search Tool (for general web searches)\n",
    "search = DuckDuckGoSearchRun()\n",
    "duckduckgo_tool = Tool(\n",
    "    name='DuckDuckGo Search',\n",
    "    func=search.run,\n",
    "    description='Useful for when you need to perform an internet search to find information that another tool can\\'t provide.'\n",
    ")\n",
    "\n",
    "# Combine the tools into a list\n",
    "tools = [python_repl_tool, wikipedia_tool, duckduckgo_tool]\n",
    "\n",
    "# Create a react agent with the ChatOpenAI model, tools, and prompt\n",
    "agent = create_react_agent(llm, tools, prompt)\n",
    "\n",
    "# Initialize the AgentExecutor\n",
    "agent_executor = AgentExecutor(\n",
    "    agent=agent,\n",
    "    tools=tools,\n",
    "    verbose=True,\n",
    "    handle_parsing_errors=True,\n",
    "    max_iterations=20\n",
    ")"
   ]
  },
  {
   "cell_type": "code",
   "execution_count": 20,
   "id": "2a2b16ae",
   "metadata": {},
   "outputs": [
    {
     "name": "stdout",
     "output_type": "stream",
     "text": [
      "\n",
      "\n",
      "\u001b[1m> Entering new AgentExecutor chain...\u001b[0m\n",
      "\u001b[32;1m\u001b[1;3mThought:I need to generate the first 10 Fibonacci numbers and then translate them into Arabic.  I'll use Python to generate the numbers and then manually translate them.\n",
      "\n",
      "Action: Python REPL\n",
      "\n",
      "Action Input:\n",
      "```python\n",
      "def fibonacci(n):\n",
      "    a, b = 0, 1\n",
      "    fib_sequence = []\n",
      "    for _ in range(n):\n",
      "        fib_sequence.append(a)\n",
      "        a, b = b, a + b\n",
      "    return fib_sequence\n",
      "\n",
      "print(fibonacci(10))\n",
      "```\u001b[0m\u001b[36;1m\u001b[1;3m[0, 1, 1, 2, 3, 5, 8, 13, 21, 34]\n",
      "\u001b[0m\u001b[32;1m\u001b[1;3mThought:Now I need to translate the numbers [0, 1, 1, 2, 3, 5, 8, 13, 21, 34] into Arabic.\n",
      "\n",
      "Action: None.  Manual translation.\u001b[0mInvalid Format: Missing 'Action Input:' after 'Action:'\u001b[32;1m\u001b[1;3mThought:I need to generate the first 10 Fibonacci numbers and then translate them into Arabic.  I'll use Python to generate the numbers and then manually translate them.\n",
      "\n",
      "Action: Python REPL\n",
      "\n",
      "Action Input:\n",
      "```python\n",
      "def fibonacci(n):\n",
      "    a, b = 0, 1\n",
      "    fib_sequence = []\n",
      "    for _ in range(n):\n",
      "        fib_sequence.append(a)\n",
      "        a, b = b, a + b\n",
      "    return fib_sequence\n",
      "\n",
      "print(fibonacci(10))\n",
      "```\u001b[0m\u001b[36;1m\u001b[1;3m[0, 1, 1, 2, 3, 5, 8, 13, 21, 34]\n",
      "\u001b[0m\u001b[32;1m\u001b[1;3mThought:Now I need to translate the numbers [0, 1, 1, 2, 3, 5, 8, 13, 21, 34] into Arabic.\n",
      "\n",
      "Action: None. Manual translation.\u001b[0mInvalid Format: Missing 'Action Input:' after 'Action:'\u001b[32;1m\u001b[1;3mThought:I need to generate the first 10 Fibonacci numbers and then translate them into Arabic.  I'll use Python to generate the numbers. Then I will manually translate them.\n",
      "\n",
      "Action: Python REPL\n",
      "\n",
      "Action Input:\n",
      "```python\n",
      "def fibonacci(n):\n",
      "    a, b = 0, 1\n",
      "    fib_sequence = []\n",
      "    for _ in range(n):\n",
      "        fib_sequence.append(a)\n",
      "        a, b = b, a + b\n",
      "    return fib_sequence\n",
      "\n",
      "print(fibonacci(10))\n",
      "```\u001b[0m\u001b[36;1m\u001b[1;3m[0, 1, 1, 2, 3, 5, 8, 13, 21, 34]\n",
      "\u001b[0m\u001b[32;1m\u001b[1;3mThought:Now I need to translate the numbers [0, 1, 1, 2, 3, 5, 8, 13, 21, 34] into Arabic.\n",
      "\n",
      "Action: None. Manual translation.\u001b[0mInvalid Format: Missing 'Action Input:' after 'Action:'\u001b[32;1m\u001b[1;3mThought:I need to generate the first 10 Fibonacci numbers using Python. Then I will manually translate them into Arabic.\n",
      "\n",
      "Action: Python REPL\n",
      "\n",
      "Action Input:\n",
      "```python\n",
      "def fibonacci(n):\n",
      "    a, b = 0, 1\n",
      "    fib_sequence = []\n",
      "    for _ in range(n):\n",
      "        fib_sequence.append(a)\n",
      "        a, b = b, a + b\n",
      "    return fib_sequence\n",
      "\n",
      "print(fibonacci(10))\n",
      "```\u001b[0m\u001b[36;1m\u001b[1;3m[0, 1, 1, 2, 3, 5, 8, 13, 21, 34]\n",
      "\u001b[0m\u001b[32;1m\u001b[1;3mThought:The Python code generated the Fibonacci sequence. Now I will manually translate the numbers into Arabic.\n",
      "\n",
      "Action: None. Manual translation.\u001b[0mInvalid Format: Missing 'Action Input:' after 'Action:'\u001b[32;1m\u001b[1;3mThought:I will generate the first 10 Fibonacci numbers using Python. Then I will manually translate them into Arabic.\n",
      "\n",
      "Action: Python REPL\n",
      "\n",
      "Action Input:\n",
      "```python\n",
      "def fibonacci(n):\n",
      "    a, b = 0, 1\n",
      "    fib_sequence = []\n",
      "    for _ in range(n):\n",
      "        fib_sequence.append(a)\n",
      "        a, b = b, a + b\n",
      "    return fib_sequence\n",
      "\n",
      "print(fibonacci(10))\n",
      "```\u001b[0m\u001b[36;1m\u001b[1;3m[0, 1, 1, 2, 3, 5, 8, 13, 21, 34]\n",
      "\u001b[0m\u001b[32;1m\u001b[1;3mThought:The Python code generated the Fibonacci sequence. Now I will manually translate the numbers into Arabic.  0 = صفر (sifr), 1 = واحد (waḥid), 2 = اثنان (ithnān), 3 = ثلاثة (thalātha), 5 = خمسة (khamsa), 8 = ثمانية (thamāniya), 13 = ثلاثة عشر (thalātha 'ashar), 21 = واحد وعشرون (wāḥid wa-'ishrūn), 34 = أربعة وثلاثون (arba'a wa-thalāthūn).\n",
      "\n",
      "Final Answer: صفر، واحد، واحد، اثنان، ثلاثة، خمسة، ثمانية، ثلاثة عشر، واحد وعشرون، أربعة وثلاثون\u001b[0m\n",
      "\n",
      "\u001b[1m> Finished chain.\u001b[0m\n"
     ]
    },
    {
     "data": {
      "text/plain": [
       "{'input': '\\nAnswer the following questions in ARABIC as best you can.\\nQuestions: Generate the first 10 numbers in the Fibonacci series.\\n',\n",
       " 'output': 'صفر، واحد، واحد، اثنان، ثلاثة، خمسة، ثمانية، ثلاثة عشر، واحد وعشرون، أربعة وثلاثون'}"
      ]
     },
     "execution_count": 20,
     "metadata": {},
     "output_type": "execute_result"
    }
   ],
   "source": [
    "question = 'Generate the first 10 numbers in the Fibonacci series.'\n",
    "output = agent_executor.invoke({\n",
    "    'input': prompt_template.format(q=question)\n",
    "})\n",
    "output"
   ]
  },
  {
   "cell_type": "code",
   "execution_count": 22,
   "id": "eae97a7c",
   "metadata": {},
   "outputs": [
    {
     "name": "stderr",
     "output_type": "stream",
     "text": [
      "C:\\Users\\user\\AppData\\Local\\Temp\\ipykernel_17444\\2908821828.py:3: LangChainDeprecationWarning: The method `Chain.__call__` was deprecated in langchain 0.1.0 and will be removed in 1.0. Use :meth:`~invoke` instead.\n",
      "  output = agent_executor({\n"
     ]
    },
    {
     "name": "stdout",
     "output_type": "stream",
     "text": [
      "\n",
      "\n",
      "\u001b[1m> Entering new AgentExecutor chain...\u001b[0m\n",
      "\u001b[32;1m\u001b[1;3mThought: I need to find the current Prime Minister of Egypt.  I'll use DuckDuckGo Search to get the most up-to-date information, then translate the answer to Arabic.\n",
      "\n",
      "Action: DuckDuckGo Search\n",
      "Action Input: \"current prime minister of Egypt\"\u001b[0m\u001b[38;5;200m\u001b[1;3mThis is a list of current heads of state and heads of government. In some cases, ... Egypt: President - Abdel Fattah el-Sisi: Prime Minister - Mostafa Madbouly ... Prime Minister - Mahn Winn Khaing Thann: Hamas government in the Gaza Strip Egypt's presidency said in a statement on Monday that Madbouly, who has been prime minister since 2018, has been tasked with shaping a new and more capable government to tackle issues at home ... Egypt's Cabinet of Ministers announced its new ministerial lineup on Wednesday, July 3rd, one month following the resignation of Prime Minister Mostafa Madbouly's government. Madbouly will continue to lead the new government, a role he has held since 2018. As part of the new ministerial lineup, several ministries have also been merged: the Ministry Egyptian President Abdel Fattah al-Sisi reappointed Prime Minister Mostafa Madbouly on Monday to form a new government after the latter submitted his cabinet's resignation, following Sisi's ... Egypt's President Abdel Fattah el-Sissi on Monday reappointed Prime Minister Mustafa Madbouly to form a new government. Madbouly earlier on Monday submitted his government's resignation, two ...\u001b[0m\u001b[32;1m\u001b[1;3mThought:The DuckDuckGo search confirms that Mostafa Madbouly is the current Prime Minister of Egypt. I need to translate \"Mostafa Madbouly\" into Arabic.\n",
      "\n",
      "Action: DuckDuckGo Search\n",
      "Action Input: \"Mostafa Madbouly in Arabic\"\u001b[0m\u001b[38;5;200m\u001b[1;3mEgyptian President Abdel Fattah el-Sisi has reappointed Prime Minister Mostafa Madbouly to form a new government. Egypt's presidency said in a statement on Monday that Madbouly, who has been ... Mostafa Madbouly reappointed as head of government and given responsibility to take it to 'next phase' Egyptian Prime Minister Mostafa Madbouly announced that the government will continue implementing its plan to gradually lift fuel subsidies until the end of 2025. During a Wednesday press conference at the Cabinet headquarters in the New Administrative Capital, Madbouly denied any intention by the government to eliminate the remaining subsidies ... RIYADH: The Egyptian Prime Minister Mostafa Madbouly arrived in Riyadh on Sunday, Saudi Press Agency reported. Madbouly and his accompanying delegation were received by the Deputy Governor of the ... Arabic newspaper that provides news and articles on cultural, literary, political, economic, medical, immigration and expatriate affairs, Arab affairs\u001b[0m\u001b[32;1m\u001b[1;3mThought:The DuckDuckGo search didn't provide a direct Arabic translation.  I'll try a different approach using a translation website directly.\n",
      "\n",
      "Action: DuckDuckGo Search\n",
      "Action Input: \"translate Mostafa Madbouly to Arabic\"\u001b[0m\u001b[38;5;200m\u001b[1;3mMoustafa Madbouly - Mostafa Kemal Madbouly (Arabic: مصطفى كمال مدبولي‎, born 28 April 1966) is the current Prime Minister of Egypt. Moustafa Amar - Moustafa Amar (Arabic: مصطفى قمر‎; born Moustafa Ahmed Amar in 1966) is an Egyptian musician and actor. Egypt's Cabinet of Ministers announced its new ministerial lineup on Wednesday, July 3rd, one month following the resignation of Prime Minister Mostafa Madbouly's government.. Madbouly will continue to lead the new government, a role he has held since 2018. As part of the new ministerial lineup, several ministries have also been merged: the Ministry of Transport has been merged with the ... While Mostafa Madbouly was busy climbing the ladder of government functions until he became head of the General Authority for Urban Planning, Gamal Mubarak was feeling an urgent need to present a neo-liberal project designed to serve as a future electoral program. The General Authority for Urban Planning under Madbouly's direction provided ... President Abdel Fattah El-Sisi, via his official channels, has announced the appointment of Dr. Mostafa Madbouly to form a new government. In a statement, President El-Sisi wrote: \"Today, I have tasked Dr. Mostafa Madbouly with forming a new government that includes the necessary expertise and capabilities to manage the upcoming phase, aiming to achieve the desired development in governmental ... RIYADH: The Egyptian Prime Minister Mostafa Madbouly arrived in Riyadh on Sunday, Saudi Press Agency reported. Madbouly and his accompanying delegation were received by the Deputy Governor of the ...\u001b[0m\u001b[32;1m\u001b[1;3mThought: I found the Arabic transliteration of Mostafa Madbouly's name: مصطفى مدبولي.\n",
      "\n",
      "Thought: I now know the final answer.\n",
      "\n",
      "Final Answer: مصطفى مدبولي\u001b[0m\n",
      "\n",
      "\u001b[1m> Finished chain.\u001b[0m\n"
     ]
    },
    {
     "data": {
      "text/plain": [
       "{'input': '\\nAnswer the following questions in ARABIC as best you can.\\nQuestions: Who is the current prime minister of the Egypt?\\n',\n",
       " 'output': 'مصطفى مدبولي'}"
      ]
     },
     "execution_count": 22,
     "metadata": {},
     "output_type": "execute_result"
    }
   ],
   "source": [
    "question = 'Who is the current prime minister of the Egypt?'\n",
    "\n",
    "output = agent_executor({\n",
    "    \"input\" : prompt_template.format(q = question)\n",
    "})\n",
    "\n",
    "output"
   ]
  },
  {
   "cell_type": "code",
   "execution_count": 23,
   "id": "6269fca8",
   "metadata": {},
   "outputs": [
    {
     "name": "stdout",
     "output_type": "stream",
     "text": [
      "\n",
      "\n",
      "\u001b[1m> Entering new AgentExecutor chain...\u001b[0m\n",
      "\u001b[32;1m\u001b[1;3mThought:I need to find information about Mohamed Ali Pasha's early life.  A Wikipedia search seems like the best approach to get a comprehensive overview, and then I can translate the relevant information into Arabic.\n",
      "\n",
      "Action: Wikipedia\n",
      "Action Input: Mohamed Ali Pasha\u001b[0m"
     ]
    },
    {
     "name": "stderr",
     "output_type": "stream",
     "text": [
      "d:\\AAAAAAA\\RAG\\Projects\\LangChain - Basics, Chat and RAG\\LangChain\\.venv\\Lib\\site-packages\\wikipedia\\wikipedia.py:389: GuessedAtParserWarning: No parser was explicitly specified, so I'm using the best available HTML parser for this system (\"lxml\"). This usually isn't a problem, but if you run this code on another system, or in a different virtual environment, it may use a different parser and behave differently.\n",
      "\n",
      "The code that caused this warning is on line 389 of the file d:\\AAAAAAA\\RAG\\Projects\\LangChain - Basics, Chat and RAG\\LangChain\\.venv\\Lib\\site-packages\\wikipedia\\wikipedia.py. To get rid of this warning, pass the additional argument 'features=\"lxml\"' to the BeautifulSoup constructor.\n",
      "\n",
      "  lis = BeautifulSoup(html).find_all('li')\n"
     ]
    },
    {
     "name": "stdout",
     "output_type": "stream",
     "text": [
      "\u001b[33;1m\u001b[1;3mPage: Muhammad Ali of Egypt\n",
      "Summary: Muhammad Ali (4 March 1769 – 2 August 1849) was the Ottoman Albanian viceroy and governor who became the de facto ruler of Egypt from 1805 to 1848, widely considered the founder of modern Egypt. At the height of his rule, he controlled Egypt, Sudan, Hejaz, the Levant, Crete and parts of Greece.\n",
      "Born in Kavala in the Rumelia Eyalet, Ali was a military commander in an Albanian Ottoman force sent to recover Egypt from French occupation following Napoleon's withdrawal. He rose to power through a series of political maneuvers, and in 1805 he was named Wāli (governor) of Egypt and gained the rank of Pasha. As Wāli, Ali attempted to modernize Egypt by instituting dramatic reforms in the military, economic and cultural spheres. He also initiated a violent purge of the Mamluks, consolidating his rule and permanently ending the Mamluk hold over Egypt.\n",
      "Militarily, Ali recaptured the Arabian territories for the sultan, and conquered Sudan of his own accord. His attempt at suppressing the Greek rebellion failed decisively, however, following an intervention by the European powers at Navarino. In 1831, Ali waged war against the sultan, capturing Syria, crossing into Anatolia and directly threatening Constantinople, but the European powers forced him to retreat. After a failed Ottoman invasion of Syria in 1839, he launched another invasion of the Ottoman Empire in 1840; he defeated the Ottomans again and opened the way towards a capture of Constantinople. Faced with another European intervention, he accepted a brokered peace in 1842 and withdrew from the Levant; in return, he and his descendants were granted hereditary rule over Egypt and Sudan. His dynasty would rule Egypt for over a century, until the revolution of 1952 when King Farouk was overthrown by the Free Officers Movement led by Mohamed Naguib and Gamal Abdel Nasser, establishing the Republic of Egypt.\n",
      "\n",
      "\n",
      "\n",
      "Page: Cotton\n",
      "Summary: Cotton (from Arabic  qutn), first recorded in ancient India, is a soft, fluffy staple fiber that grows in a boll, or protective case, around the seeds of the cotton plants of the genus Gossypium in the mallow family Malvaceae. The fiber is almost pure cellulose, and can contain minor percentages of waxes, fats, pectins, and water. Under natural conditions, the cotton bolls will increase the dispersal of the seeds.\n",
      "The plant is a shrub native to tropical and subtropical regions around the world, including the Americas, Africa, Egypt and India. The greatest diversity of wild cotton species is found in Mexico, followed by Australia and Africa. Cotton was independently domesticated in the Old and New Worlds.\n",
      "The fiber is most often spun into yarn or thread and used to make a soft, breathable, and durable textile. The use of cotton for fabric is known to date to prehistoric times; fragments of cotton fabric dated to the fifth millennium BC have been found in the Indus Valley civilization, as well as fabric remnants dated back to 4200 BC in Peru.\n",
      "Although cultivated since antiquity, it was the invention of the cotton gin that lowered the cost of production and led to its widespread use, and it is the most widely used natural fiber cloth in clothing today.\n",
      "Current estimates for world production are about 25 million tonnes or 110 million bales annually, accounting for 2.5% of the world's arable land. India is the world's largest producer of cotton. The United States has been the largest exporter for many years.\u001b[0m\u001b[32;1m\u001b[1;3mThought:I need to extract information about Mohamed Ali Pasha's early life from the Wikipedia article and then translate it into Arabic.  The provided text focuses more on his later life and accomplishments. I'll need to search for more information specifically about his early life.\n",
      "\n",
      "Action: DuckDuckGo Search\n",
      "Action Input: \"Mohamed Ali Pasha early life\"\u001b[0m\u001b[38;5;200m\u001b[1;3mEarly Life and Rise to Power. Muhammad Ali was born in 1769 in Kavala, a port city in what is now Greece but was then part of the Ottoman Empire. ... In 1831, Ibrahim Pasha led an Egyptian invasion of Syria, quickly capturing key cities, including Acre, and defeating the Ottoman army. The Egyptian forces pushed north into Anatolia, and by 1832 ... Mohamed Ali Pasha is rightfully considered the first ruler of modern Egypt and the founder of its renaissance during the Ottoman era. His reign witnessed numerous significant achievements that profoundly impacted the country's trajectory. Mohamed Ali was known for his sharp intelligence and exceptional leadership skills in managing Egypt's affairs. Muhammad Ali Pasha alMas'ud ibn Agha (Ottoman Turkish Arabic ALALC Muammad Al Bsh Albanian Mehmet Ali Pasha Turkish Kavalal Mehmet Ali Paa 4 March 1769 2 August 1849) was an Ottoman Albanian commander in the Ottoman army, who rose t ... Early life. Muhammad Ali was of paternal Albanian descent; his paternal uncle was Mustafa Pasha. He was the ... In the turbulent early 19th century, as the Ottoman Empire waned and Napoleon Bonaparte's ambitions extended to the East, a figure rose from modest beginnings to become a pivotal leader in the Middle East. Muhammad Ali Pasha, born in Kavala (Northern Greece), Ottoman Empire, would emerge as the orchestrator of Egypt's modernisation, navigating through the Egypt - Muhammad Ali, Successors, 1805-82: In May 1805 a revolt broke out in Cairo against the Ottoman viceroy, Khūrshīd Pasha. The ʿulamāʾ invested Muḥammad ʿAlī as viceroy. For some weeks there was street fighting, and Khūrshīd was besieged in the citadel. In July Sultan Selim III confirmed Muḥammad ʿAlī in office and the revolt ended.\u001b[0m\u001b[32;1m\u001b[1;3mThought:The DuckDuckGo search yielded some information on Mohamed Ali Pasha's early life, but it's scattered.  I'll consolidate the key details and translate them into Arabic.\n",
      "\n",
      "Action: Python REPL\n",
      "Action Input:\n",
      "```python\n",
      "early_life_details = \"\"\"\n",
      "Mohamed Ali Pasha was born on March 4, 1769, in Kavala, a port city in what is now Greece, but was then part of the Ottoman Empire.  His father was Albanian. He was a military commander in an Albanian Ottoman force sent to recover Egypt from French occupation following Napoleon's withdrawal. He rose to power through a series of political maneuvers.\n",
      "\"\"\"\n",
      "\n",
      "#This is a simplified translation, a professional translator would provide a more nuanced and accurate translation.\n",
      "arabic_translation = \"\"\"\n",
      "ولد محمد علي باشا في 4 مارس 1769 في كافالا، وهي مدينة ساحلية تقع الآن في اليونان، ولكنها كانت آنذاك جزءًا من الإمبراطورية العثمانية. كان والده ألبانيًا. وكان قائدًا عسكريًا في قوة عثمانية ألبانية أُرسلت لاستعادة مصر من الاحتلال الفرنسي بعد انسحاب نابليون.  وصعد إلى السلطة من خلال سلسلة من المناورات السياسية.\n",
      "\"\"\"\n",
      "\n",
      "print(arabic_translation)\n",
      "```\u001b[0m\u001b[36;1m\u001b[1;3m\n",
      "ولد محمد علي باشا في 4 مارس 1769 في كافالا، وهي مدينة ساحلية تقع الآن في اليونان، ولكنها كانت آنذاك جزءًا من الإمبراطورية العثمانية. كان والده ألبانيًا. وكان قائدًا عسكريًا في قوة عثمانية ألبانية أُرسلت لاستعادة مصر من الاحتلال الفرنسي بعد انسحاب نابليون.  وصعد إلى السلطة من خلال سلسلة من المناورات السياسية.\n",
      "\n",
      "\u001b[0m\u001b[32;1m\u001b[1;3mThought:I now know the final answer. The Python code provided a suitable Arabic translation of the key details about Mohamed Ali Pasha's early life that I gathered from the DuckDuckGo search.\n",
      "\n",
      "Final Answer: ولد محمد علي باشا في 4 مارس 1769 في كافالا، وهي مدينة ساحلية تقع الآن في اليونان، ولكنها كانت آنذاك جزءًا من الإمبراطورية العثمانية. كان والده ألبانيًا. وكان قائدًا عسكريًا في قوة عثمانية ألبانية أُرسلت لاستعادة مصر من الاحتلال الفرنسي بعد انسحاب نابليون.  وصعد إلى السلطة من خلال سلسلة من المناورات السياسية.\u001b[0m\n",
      "\n",
      "\u001b[1m> Finished chain.\u001b[0m\n"
     ]
    },
    {
     "data": {
      "text/plain": [
       "{'input': '\\nAnswer the following questions in ARABIC as best you can.\\nQuestions: Tell me about Mohamed ALi Basha early life\\n',\n",
       " 'output': 'ولد محمد علي باشا في 4 مارس 1769 في كافالا، وهي مدينة ساحلية تقع الآن في اليونان، ولكنها كانت آنذاك جزءًا من الإمبراطورية العثمانية. كان والده ألبانيًا. وكان قائدًا عسكريًا في قوة عثمانية ألبانية أُرسلت لاستعادة مصر من الاحتلال الفرنسي بعد انسحاب نابليون.  وصعد إلى السلطة من خلال سلسلة من المناورات السياسية.'}"
      ]
     },
     "execution_count": 23,
     "metadata": {},
     "output_type": "execute_result"
    }
   ],
   "source": [
    "import time\n",
    "time.sleep(5)\n",
    "\n",
    "question = 'Tell me about Mohamed ALi Basha early life'\n",
    "output = agent_executor.invoke({\n",
    "    'input': prompt_template.format(q=question)\n",
    "})\n",
    "output"
   ]
  },
  {
   "cell_type": "code",
   "execution_count": null,
   "id": "ab89fd0d",
   "metadata": {},
   "outputs": [],
   "source": []
  }
 ],
 "metadata": {
  "kernelspec": {
   "display_name": ".venv",
   "language": "python",
   "name": "python3"
  },
  "language_info": {
   "codemirror_mode": {
    "name": "ipython",
    "version": 3
   },
   "file_extension": ".py",
   "mimetype": "text/x-python",
   "name": "python",
   "nbconvert_exporter": "python",
   "pygments_lexer": "ipython3",
   "version": "3.13.3"
  }
 },
 "nbformat": 4,
 "nbformat_minor": 5
}
